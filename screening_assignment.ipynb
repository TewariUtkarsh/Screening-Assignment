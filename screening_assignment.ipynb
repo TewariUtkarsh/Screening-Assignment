{
 "cells": [
  {
   "cell_type": "markdown",
   "id": "01875dff",
   "metadata": {},
   "source": [
    "# Screening Assignment"
   ]
  },
  {
   "cell_type": "markdown",
   "id": "9e43cf49",
   "metadata": {},
   "source": [
    "## Q1: Create a function in python to read the text file and replace specific content of the file."
   ]
  },
  {
   "cell_type": "markdown",
   "id": "b43aa46c",
   "metadata": {},
   "source": [
    "### Method 1:"
   ]
  },
  {
   "cell_type": "code",
   "execution_count": 62,
   "id": "0ee29de4",
   "metadata": {},
   "outputs": [],
   "source": [
    "sample_file = \"example.txt\"\n",
    "\n",
    "# Opening File in Read Mode\n",
    "with open(sample_file, \"r\") as file_object:\n",
    "    # Storing the entire content of the file in the string\n",
    "    file_content = file_object.read()\n"
   ]
  },
  {
   "cell_type": "code",
   "execution_count": 63,
   "id": "6e31649d",
   "metadata": {},
   "outputs": [
    {
     "name": "stdout",
     "output_type": "stream",
     "text": [
      "This is a placement assignment\n"
     ]
    }
   ],
   "source": [
    "print(file_content)"
   ]
  },
  {
   "cell_type": "code",
   "execution_count": 64,
   "id": "ba7d9e2c",
   "metadata": {},
   "outputs": [
    {
     "name": "stdout",
     "output_type": "stream",
     "text": [
      "This is a screening assignment\n"
     ]
    }
   ],
   "source": [
    "# Replacing the occurrence of word 'placement' with 'screening'\n",
    "new_file_content = file_content.replace('placement', 'screening')\n",
    "print(new_file_content)"
   ]
  },
  {
   "cell_type": "code",
   "execution_count": 65,
   "id": "63dcd473",
   "metadata": {},
   "outputs": [],
   "source": [
    "# Opening file in Write mode to update the content\n",
    "with open(sample_file, \"w\") as file_object:\n",
    "    \n",
    "    # Updating the content of the file by overwrite it.\n",
    "    file_object.write(new_file_content)"
   ]
  },
  {
   "cell_type": "code",
   "execution_count": 66,
   "id": "f90cc709",
   "metadata": {},
   "outputs": [
    {
     "name": "stdout",
     "output_type": "stream",
     "text": [
      "This is a screening assignment\n"
     ]
    }
   ],
   "source": [
    "# Opening file in order to check whether the file content was updated\n",
    "with open(sample_file, 'r') as file_object:\n",
    "    file_content = file_object.read()\n",
    "    print(file_content)"
   ]
  },
  {
   "cell_type": "code",
   "execution_count": null,
   "id": "5252473f",
   "metadata": {},
   "outputs": [],
   "source": []
  },
  {
   "cell_type": "markdown",
   "id": "7101f871",
   "metadata": {},
   "source": [
    "### Method 2:"
   ]
  },
  {
   "cell_type": "code",
   "execution_count": 67,
   "id": "074c459a",
   "metadata": {},
   "outputs": [
    {
     "name": "stdout",
     "output_type": "stream",
     "text": [
      "This is a placement assignment\n"
     ]
    }
   ],
   "source": [
    "# Opening file in 'r+' which means we can read, write/append and even truncate the file\n",
    "\n",
    "with open(sample_file, 'r+') as file_object:\n",
    "    \n",
    "    # Storing content of the file\n",
    "    file_content = file_object.read()\n",
    "    print(file_content)\n",
    "    \n",
    "    # Relocating the file pointer to the beginning of the file\n",
    "    file_object.seek(0)\n",
    "    \n",
    "    # Truncating the file i.e. removing the content of the file\n",
    "    file_object.truncate()\n",
    "    \n",
    "    # Updating the content and writing it back to the file\n",
    "    new_file_content = file_content.replace('placement', 'screening')\n",
    "    file_object.write(new_file_content)\n"
   ]
  },
  {
   "cell_type": "code",
   "execution_count": 68,
   "id": "bea59687",
   "metadata": {},
   "outputs": [
    {
     "name": "stdout",
     "output_type": "stream",
     "text": [
      "This is a screening assignment\n"
     ]
    }
   ],
   "source": [
    "# Reviewing the content of the file to check if the content got updated or not\n",
    "with open(sample_file, 'r') as file_object:\n",
    "    \n",
    "    file_content = file_object.read()\n",
    "    \n",
    "    print(file_content)"
   ]
  },
  {
   "cell_type": "code",
   "execution_count": null,
   "id": "e02e4149",
   "metadata": {},
   "outputs": [],
   "source": []
  },
  {
   "cell_type": "code",
   "execution_count": null,
   "id": "97698de6",
   "metadata": {},
   "outputs": [],
   "source": []
  },
  {
   "cell_type": "markdown",
   "id": "674c0b3e",
   "metadata": {},
   "source": [
    "## Q2: Demonstrate use of abstract class, multiple inheritance and decorator in python using examples."
   ]
  },
  {
   "cell_type": "markdown",
   "id": "e1a474d3",
   "metadata": {},
   "source": [
    "## - Abstract Class:\n",
    "> - Abstract class can simply be defined as a basic skeleton or structure of a class which consists of only abstract methods(functions which only have a declaration and no definition) and cannot be instantiated.\n",
    "> - In general, while working on a project, we usually code in a modular fashion that is utilizing the concepts of OOPS, in order to promote the high usability of code and promoting a well defined structure of our project for better readabilty.\n",
    "> - An abstract class can help us to define some dependencies(abstract method) which are required for the existence of the classes which inherit them.\n",
    "> - Abstract class implementation and usage will be explained using the following example below:"
   ]
  },
  {
   "cell_type": "code",
   "execution_count": 72,
   "id": "3840e129",
   "metadata": {},
   "outputs": [],
   "source": [
    "# ABCMeta and abstractmethod are needed to be imported in order to utilize the abstract class concept\n",
    "from abc import ABC, abstractmethod"
   ]
  },
  {
   "cell_type": "code",
   "execution_count": 93,
   "id": "07083a46",
   "metadata": {},
   "outputs": [],
   "source": [
    "# Creating an abstract class Vehicle with abstract methods: get_model() and get_type()\n",
    "class Vehicle(ABC):\n",
    "    \n",
    "    @abstractmethod\n",
    "    def get_type(self, vehicle_type):\n",
    "        pass\n",
    "    \n",
    "    @abstractmethod\n",
    "    def get_model(self, model_name):\n",
    "        pass\n",
    "        "
   ]
  },
  {
   "cell_type": "code",
   "execution_count": 104,
   "id": "60ca78eb",
   "metadata": {},
   "outputs": [],
   "source": [
    "# Defining a class Car which inherits abstract class Vehicle\n",
    "class Car(Vehicle):\n",
    "    \n",
    "    def get_type(self, vehicle_type):\n",
    "        self.vehicle_type = vehicle_type\n",
    "        print(f\"Type of the Vehicle: {self.vehicle_type}\")\n",
    "        \n",
    "    def get_model(self, model_name):\n",
    "        self.model_name = model_name\n",
    "        print(f\"Model Name: {self.model_name}\")"
   ]
  },
  {
   "cell_type": "code",
   "execution_count": 106,
   "id": "7475d2ba",
   "metadata": {},
   "outputs": [],
   "source": [
    "# Defining a class Bike which inherits abstract class Vehicle\n",
    "class Bike(Vehicle):\n",
    "    \n",
    "    def get_type(self, vehicle_type):\n",
    "        self.vehicle_type = vehicle_type\n",
    "        print(f\"Type of the Vehicle: {self.vehicle_type}\")\n",
    "        \n",
    "    def get_model(self, model_name):\n",
    "        self.model_name = model_name\n",
    "        print(f\"Model Name: {self.model_name}\")"
   ]
  },
  {
   "cell_type": "code",
   "execution_count": 107,
   "id": "3f67f210",
   "metadata": {},
   "outputs": [
    {
     "name": "stdout",
     "output_type": "stream",
     "text": [
      "Model Name: SUV\n",
      "Type of the Vehicle: Car\n"
     ]
    }
   ],
   "source": [
    "# Creating an instance/object of Car class to access the methods\n",
    "c = Car()\n",
    "c.get_model('SUV')\n",
    "c.get_type('Car')"
   ]
  },
  {
   "cell_type": "code",
   "execution_count": 109,
   "id": "5b4b8905",
   "metadata": {},
   "outputs": [
    {
     "name": "stdout",
     "output_type": "stream",
     "text": [
      "Model Name: Sports Bike\n",
      "Type of the Vehicle: Bike\n"
     ]
    }
   ],
   "source": [
    "# Creating an instance/object of Bike class to access the methods\n",
    "b = Bike()\n",
    "b.get_model('Sports Bike')\n",
    "b.get_type('Bike')"
   ]
  },
  {
   "cell_type": "markdown",
   "id": "31925e09",
   "metadata": {},
   "source": [
    "### In the example above:\n",
    "- We have defined two more classes Car and Bike with 2 functions defined in them which inherit the abstract class Vehicle.\n",
    "- As we know that Car and Bike come in the same category that is Vehicle, so for a Car/Bike to be a vehicle they will definitely have a model and type.\n",
    "- So using abstract classes we can define such dependencies that for any Car or Bike class to exist, it is mandatory for it to include the 2 methods i.e. get_model() and get_type() and also provide function definition for the same in order to utilize it.\n",
    "- The use of Abstract Classes helps us when we have multiple dependencies and also promotes modularity in our Code"
   ]
  },
  {
   "cell_type": "markdown",
   "id": "4a12b82b",
   "metadata": {},
   "source": [
    "## NOTE: If we dont define include the definition of the abstract methods in the class which inherits the abstract class then we will get an error. The following example will give more clarity:"
   ]
  },
  {
   "cell_type": "code",
   "execution_count": 102,
   "id": "eb291311",
   "metadata": {},
   "outputs": [],
   "source": [
    "class Truck(Vehicle):\n",
    "    def display(self):\n",
    "        print(\"This is the Truck Class\")"
   ]
  },
  {
   "cell_type": "code",
   "execution_count": 103,
   "id": "2c49fddc",
   "metadata": {},
   "outputs": [
    {
     "ename": "TypeError",
     "evalue": "Can't instantiate abstract class Truck with abstract methods get_model, get_type",
     "output_type": "error",
     "traceback": [
      "\u001b[1;31m---------------------------------------------------------------------------\u001b[0m",
      "\u001b[1;31mTypeError\u001b[0m                                 Traceback (most recent call last)",
      "\u001b[1;32m<ipython-input-103-a919b800f7bf>\u001b[0m in \u001b[0;36m<module>\u001b[1;34m\u001b[0m\n\u001b[1;32m----> 1\u001b[1;33m \u001b[0mt\u001b[0m \u001b[1;33m=\u001b[0m \u001b[0mTruck\u001b[0m\u001b[1;33m(\u001b[0m\u001b[1;33m)\u001b[0m\u001b[1;33m\u001b[0m\u001b[1;33m\u001b[0m\u001b[0m\n\u001b[0m",
      "\u001b[1;31mTypeError\u001b[0m: Can't instantiate abstract class Truck with abstract methods get_model, get_type"
     ]
    }
   ],
   "source": [
    "t = Truck()"
   ]
  },
  {
   "cell_type": "markdown",
   "id": "c0197c8b",
   "metadata": {},
   "source": [
    "> This happened because as Truck class inherits Vehicle(abstract class) and it does not define the 2 abstract methods so it acts as an abstract class, and thus cannot be instantiated."
   ]
  },
  {
   "cell_type": "markdown",
   "id": "d692da71",
   "metadata": {},
   "source": [
    "## - Multiple Inheritance:\n",
    "- Multiple Inheritance is that type of inheritance in which one child class has multiple parent classes.\n",
    "- In other words, we can say that one sub class inherits properties of more than one base classes.\n",
    "- The following example will demonstrate its usage:"
   ]
  },
  {
   "cell_type": "code",
   "execution_count": 138,
   "id": "ea66ba34",
   "metadata": {},
   "outputs": [],
   "source": [
    "# Defining Parent Class A\n",
    "class A:\n",
    "    def display(self):\n",
    "        print(\"This is the display function of class A\")\n",
    "        \n",
    "    def func_A(self):\n",
    "        print(\"You are in class A\")"
   ]
  },
  {
   "cell_type": "code",
   "execution_count": 139,
   "id": "dd63739b",
   "metadata": {},
   "outputs": [],
   "source": [
    "# Defining Parent Class B\n",
    "class B:\n",
    "    def display(self):\n",
    "        print(\"This is the display function of class B\")\n",
    "        \n",
    "    def func_B(self):\n",
    "        print(\"You are in class B\")"
   ]
  },
  {
   "cell_type": "code",
   "execution_count": 140,
   "id": "bc2e5acf",
   "metadata": {},
   "outputs": [],
   "source": [
    "# Class C inherits classes A and B\n",
    "class C(A, B):\n",
    "    def display(self):\n",
    "        print(\"This is the display function of class C\")\n",
    "        super().display()\n",
    "        \n",
    "    def func_C(self):\n",
    "        print(\"You are in class C\")\n",
    "        \n",
    "    "
   ]
  },
  {
   "cell_type": "code",
   "execution_count": 141,
   "id": "87be224e",
   "metadata": {},
   "outputs": [],
   "source": [
    "# Creating an object of Class C\n",
    "c = C()"
   ]
  },
  {
   "cell_type": "code",
   "execution_count": 145,
   "id": "24763b5c",
   "metadata": {},
   "outputs": [
    {
     "name": "stdout",
     "output_type": "stream",
     "text": [
      "You are in class A\n"
     ]
    }
   ],
   "source": [
    "# Object 'c' can access the function of class A\n",
    "c.func_A()"
   ]
  },
  {
   "cell_type": "code",
   "execution_count": 146,
   "id": "1a0f3206",
   "metadata": {},
   "outputs": [
    {
     "name": "stdout",
     "output_type": "stream",
     "text": [
      "You are in class B\n"
     ]
    }
   ],
   "source": [
    "# Object 'c' can access the function of class B\n",
    "c.func_B()"
   ]
  },
  {
   "cell_type": "code",
   "execution_count": 144,
   "id": "c13ac650",
   "metadata": {},
   "outputs": [
    {
     "name": "stdout",
     "output_type": "stream",
     "text": [
      "You are in class C\n"
     ]
    }
   ],
   "source": [
    "c.func_C()"
   ]
  },
  {
   "cell_type": "markdown",
   "id": "004fd363",
   "metadata": {},
   "source": [
    "### NOTE: \n",
    "- As we can see all the 3 classes have function display() with the same name, which is the concept of function overriding.\n",
    "- If we call the display function using object 'c' then it will call the display() function of class C as the more priority is given to the local definition of the function.\n",
    "- In order to access the display() function of Class A we have use the keyword 'super()'.\n",
    "- One more important point to be noted is that the order of inheritance matters alot.\n",
    "- That is, if we use super().display() then it will call the display() function of class A as it is inherited first by class C.\n",
    "\n",
    "- The following code will provide a proper demonstration:"
   ]
  },
  {
   "cell_type": "code",
   "execution_count": 147,
   "id": "5711cee1",
   "metadata": {},
   "outputs": [
    {
     "name": "stdout",
     "output_type": "stream",
     "text": [
      "This is the display function of class C\n",
      "This is the display function of class A\n"
     ]
    }
   ],
   "source": [
    "c.display()"
   ]
  },
  {
   "cell_type": "markdown",
   "id": "d50adbb9",
   "metadata": {},
   "source": [
    "## - Decorator:\n",
    "> - Decorators are simply used in order to extend the functionalities of existing methods without altering the original code.\n",
    "> - In other words, we can use decorators to decorate or modify our existing function by adding code and utilizing the existing defintion of that function itself based upon our requirements.\n",
    "> - The following example will give demonstrate and explain the usage of decorator in a better way:"
   ]
  },
  {
   "cell_type": "markdown",
   "id": "10272daf",
   "metadata": {},
   "source": [
    "> Here we define a function format_result which takes another function as an arguement.\n",
    "> Inside this function, we define a wrapper function which takes *args, **kwargs as parameters which technically specifies the \n",
    "> parameters which the func() might require if passed in order to run.\n",
    "\n",
    "> After that we store the result from the func() and modify the output thus extending the functionality of the existing function\n",
    "> without altering the original function source code.\n"
   ]
  },
  {
   "cell_type": "code",
   "execution_count": 148,
   "id": "64517d9b",
   "metadata": {},
   "outputs": [],
   "source": [
    "def format_result(func):\n",
    "    def wrapper(*args, **kwargs):\n",
    "        result = func(*args, **kwargs)\n",
    "        print(f\"The Formatted Output is: {result}\")\n",
    "    return wrapper"
   ]
  },
  {
   "cell_type": "code",
   "execution_count": 160,
   "id": "3dde7aba",
   "metadata": {},
   "outputs": [],
   "source": [
    "# Creating an add function which returns the sum of the 2 args passed.\n",
    "def add(a,b):\n",
    "    return a+b"
   ]
  },
  {
   "cell_type": "code",
   "execution_count": 161,
   "id": "8f613133",
   "metadata": {},
   "outputs": [
    {
     "data": {
      "text/plain": [
       "15"
      ]
     },
     "execution_count": 161,
     "metadata": {},
     "output_type": "execute_result"
    }
   ],
   "source": [
    "add(10,5)"
   ]
  },
  {
   "cell_type": "markdown",
   "id": "c78c56d4",
   "metadata": {},
   "source": [
    "### Ways to implement Decorators:"
   ]
  },
  {
   "cell_type": "markdown",
   "id": "2c5d2472",
   "metadata": {},
   "source": [
    "- By calling the format_result(func)"
   ]
  },
  {
   "cell_type": "code",
   "execution_count": 162,
   "id": "510b9122",
   "metadata": {},
   "outputs": [],
   "source": [
    "add = format_result(add)"
   ]
  },
  {
   "cell_type": "code",
   "execution_count": 164,
   "id": "e42a097b",
   "metadata": {},
   "outputs": [
    {
     "name": "stdout",
     "output_type": "stream",
     "text": [
      "The Formatted Output is: 15\n"
     ]
    }
   ],
   "source": [
    "# Extending the functionality of add function by formatting the output generated by add() function without modifying the \n",
    "# oriinal implementation\n",
    "add(10,5)"
   ]
  },
  {
   "cell_type": "markdown",
   "id": "3f68ebd1",
   "metadata": {},
   "source": [
    "- By using @ format_result(func)"
   ]
  },
  {
   "cell_type": "code",
   "execution_count": 166,
   "id": "2e33c9ea",
   "metadata": {},
   "outputs": [],
   "source": [
    "@format_result\n",
    "def sub(a, b):\n",
    "    return a-b"
   ]
  },
  {
   "cell_type": "code",
   "execution_count": 167,
   "id": "ac0db6e0",
   "metadata": {},
   "outputs": [
    {
     "name": "stdout",
     "output_type": "stream",
     "text": [
      "The Formatted Output is: 5\n"
     ]
    }
   ],
   "source": [
    "sub(10,5)"
   ]
  },
  {
   "cell_type": "markdown",
   "id": "04cf3782",
   "metadata": {},
   "source": [
    "> By using <b>@format_result</b> we simply implemented -> sub = format_result(sub).\n",
    "\n",
    "> Thus utilizing the concept of decorator"
   ]
  },
  {
   "cell_type": "code",
   "execution_count": null,
   "id": "3084d054",
   "metadata": {},
   "outputs": [],
   "source": []
  }
 ],
 "metadata": {
  "kernelspec": {
   "display_name": "Python 3",
   "language": "python",
   "name": "python3"
  },
  "language_info": {
   "codemirror_mode": {
    "name": "ipython",
    "version": 3
   },
   "file_extension": ".py",
   "mimetype": "text/x-python",
   "name": "python",
   "nbconvert_exporter": "python",
   "pygments_lexer": "ipython3",
   "version": "3.6.15"
  }
 },
 "nbformat": 4,
 "nbformat_minor": 5
}
